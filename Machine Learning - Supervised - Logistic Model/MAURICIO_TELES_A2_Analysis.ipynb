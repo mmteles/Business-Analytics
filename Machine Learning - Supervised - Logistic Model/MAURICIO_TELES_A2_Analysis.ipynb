{
 "cells": [
  {
   "cell_type": "markdown",
   "metadata": {},
   "source": [
    "Student Name : MAURICIO TELES \n",
    "\n",
    "Cohort       : COHORT 4 - DIVISADERO"
   ]
  },
  {
   "cell_type": "markdown",
   "metadata": {},
   "source": [
    "This first Block is to import all the libraries and change the display properties"
   ]
  },
  {
   "cell_type": "code",
   "execution_count": 1,
   "metadata": {},
   "outputs": [
    {
     "name": "stderr",
     "output_type": "stream",
     "text": [
      "C:\\ProgramData\\Anaconda3\\lib\\site-packages\\sklearn\\externals\\six.py:31: DeprecationWarning: The module is deprecated in version 0.21 and will be removed in version 0.23 since we've dropped support for Python 2.7. Please rely on the official version of six (https://pypi.org/project/six/).\n",
      "  \"(https://pypi.org/project/six/).\", DeprecationWarning)\n"
     ]
    }
   ],
   "source": [
    "##############################################################################\n",
    "# importing libraries\n",
    "##############################################################################\n",
    "import pandas as pd # data science essentials\n",
    "import matplotlib.pyplot as plt # data visualization\n",
    "import seaborn as sns # enhanced data visualization\n",
    "import statsmodels.formula.api as smf # regression modeling\n",
    "from sklearn.model_selection import train_test_split # train/test split\n",
    "import sklearn.linear_model # linear models\n",
    "import gender_guesser.detector as gender # gender detection\n",
    "from sklearn.neighbors import KNeighborsRegressor # KNN for Regression\n",
    "from sklearn.preprocessing import StandardScaler # standard scaler\n",
    "import statsmodels.formula.api as smf\n",
    "from sklearn.metrics import confusion_matrix         # confusion matrix\n",
    "from sklearn.metrics import roc_auc_score            # auc score\n",
    "from sklearn.neighbors import KNeighborsClassifier   # KNN for classification\n",
    "from sklearn.tree import DecisionTreeClassifier      # classification trees\n",
    "from sklearn.tree import export_graphviz             # exports graphics\n",
    "from sklearn.externals.six import StringIO           # saves objects in memory\n",
    "from IPython.display import Image                    # displays on frontend\n",
    "import pydotplus                                     # interprets dot objects\n",
    "from sklearn.model_selection import GridSearchCV     # hyperparameter tuning\n",
    "from sklearn.metrics import make_scorer              # customizable scorer\n",
    "from sklearn.ensemble import RandomForestClassifier     # random forest\n",
    "from sklearn.ensemble import GradientBoostingClassifier # gbm\n",
    "\n",
    "\n",
    "##############################################################################\n",
    "# setting pandas print options - COMMENTED FOR DELIVERY\n",
    "##############################################################################\n",
    "pd.set_option('display.max_rows', 500)\n",
    "pd.set_option('display.max_columns', 500)\n",
    "pd.set_option('display.width', 1000)\n",
    "\n",
    "##############################################################################\n",
    "# define a variable to inform the random_state\n",
    "##############################################################################\n",
    "user_random_state = 222"
   ]
  },
  {
   "cell_type": "markdown",
   "metadata": {},
   "source": [
    "Read the Apprentice_Chef_Dataset for engineer processing. At the end,\n",
    "the file is saved as chef_with_all_flags, which was imported to test the models"
   ]
  },
  {
   "cell_type": "code",
   "execution_count": 2,
   "metadata": {},
   "outputs": [],
   "source": [
    "##############################################################################\n",
    "# specifying file name\n",
    "##############################################################################\n",
    "file = 'Apprentice_Chef_Dataset.xlsx'\n",
    "\n",
    "##############################################################################\n",
    "#This reading is not used for the deliverable\n",
    "#file = 'chef_with_all_flags.xlsx'\n",
    "##############################################################################\n",
    "\n",
    "# reading the file into Python\n",
    "chef = pd.read_excel(file)"
   ]
  },
  {
   "cell_type": "markdown",
   "metadata": {},
   "source": [
    "Check the dataset for nulls, the columns types, and statistics for each\n",
    "variable of the dataset"
   ]
  },
  {
   "cell_type": "code",
   "execution_count": 3,
   "metadata": {},
   "outputs": [],
   "source": [
    "##############################################################################\n",
    "# Print information about the data to save time and keep the code format\n",
    "# it's commented\n",
    "##############################################################################\n",
    "#print(chef.isnull().sum())\n",
    "#print(chef.info())\n",
    "#chef.describe().round(2)"
   ]
  },
  {
   "cell_type": "markdown",
   "metadata": {},
   "source": [
    "The case mentions a classification based on the user's email. So I decided to check if it would impact my model. At the end, it did."
   ]
  },
  {
   "cell_type": "code",
   "execution_count": 4,
   "metadata": {},
   "outputs": [],
   "source": [
    "############################################################################## \n",
    "# STEP 1: splitting personal emails\n",
    "##############################################################################\n",
    "\n",
    "# placeholder list\n",
    "placeholder_lst = []\n",
    "\n",
    "# looping over each email address\n",
    "for index, col in chef.iterrows():\n",
    "    \n",
    "    # splitting email domain at '@'\n",
    "    split_email = chef.loc[index, 'EMAIL'].split(sep = '@')\n",
    "    \n",
    "    # appending placeholder_lst with the results\n",
    "    placeholder_lst.append(split_email)\n",
    "    \n",
    "# converting placeholder_lst into a DataFrame \n",
    "email_df = pd.DataFrame(placeholder_lst)\n",
    "\n",
    "##############################################################################\n",
    "# STEP 2: concatenating with original DataFrame\n",
    "##############################################################################\n",
    "# renaming column to concatenate\n",
    "email_df.columns = ['0' , 'personal_email_domain']\n",
    "\n",
    "# concatenating personal_email_domain with friends DataFrame\n",
    "chef = pd.concat([chef, email_df['personal_email_domain']],\n",
    "                     axis = 1)\n",
    "\n",
    "##############################################################################\n",
    "# email domain types\n",
    "##############################################################################\n",
    "personal_email_domains = ['@gmail.com', '@yahoo.com', '@protonmail.com']\n",
    "junk_email_domains  = ['@me.com', '@aol.com', '@hotmail.com', '@live.com', '@msn.com', '@passport.com']\n",
    "professional_email_domains = ['@mmm.com', '@amex.com', '@apple.com', '@boeing.com', \n",
    "                              '@caterpillar.com', '@chevron.com', '@cisco.com', '@cocacola.com',\n",
    "                              '@disney.com', '@dupont.com', '@exxon.com', '@ge.org', '@goldmansacs.com', \n",
    "                              '@homedepot.com', '@ibm.com', '@intel.com', '@jnj.com', '@jpmorgan.com', \n",
    "                              '@mcdonalds.com', '@merck.com', '@microsoft.com', '@nike.com', \n",
    "                              '@pfizer.com', '@pg.com', '@travelers.com', '@unitedtech.com', \n",
    "                              '@unitedhealth.com', '@verizon.com', '@visa.com', '@walmart.com']\n",
    "\n",
    "# placeholder list\n",
    "placeholder_lst = []\n",
    "\n",
    "# looping to group observations by domain type\n",
    "for domain in chef['personal_email_domain']:\n",
    "    \n",
    "    if '@' + domain in personal_email_domains:\n",
    "        placeholder_lst.append('personal')\n",
    "        \n",
    "    elif '@' + domain in junk_email_domains:\n",
    "        placeholder_lst.append('junk')\n",
    "\n",
    "    elif '@' + domain in professional_email_domains:\n",
    "        placeholder_lst.append('professional')\n",
    "\n",
    "    else:\n",
    "            print('Unknown')\n",
    "\n",
    "# concatenating with original DataFrame\n",
    "chef['domain_group'] = pd.Series(placeholder_lst)\n",
    "\n",
    "# one hot encoding categorical variables\n",
    "one_hot_domain_group = pd.get_dummies(chef['domain_group'])\n",
    "\n",
    "# dropping categorical variables after they've been encoded\n",
    "chef = chef.drop('domain_group', axis = 1)\n",
    "\n",
    "# joining codings together\n",
    "chef = chef.join([one_hot_domain_group])"
   ]
  },
  {
   "cell_type": "markdown",
   "metadata": {},
   "source": [
    "This section prepares the file for analysis of the data, through correlation and logistic model. It's a raw analysis, so it  only has new features related to the email"
   ]
  },
  {
   "cell_type": "code",
   "execution_count": 5,
   "metadata": {},
   "outputs": [],
   "source": [
    "##############################################################################\n",
    "# preparing explanatory variable data for OLS regression\n",
    "# It allowed the analysis of P-values and coefficients\n",
    "##############################################################################\n",
    "\n",
    "chef_data   = chef.drop(['CROSS_SELL_SUCCESS', 'NAME',\n",
    "                         'EMAIL', 'FIRST_NAME', 'FAMILY_NAME',\n",
    "                         'personal_email_domain'],\n",
    "                          axis = 1)\n",
    "\n",
    "# preparing response variable data\n",
    "chef_target = chef.loc[:, 'CROSS_SELL_SUCCESS']\n",
    "\n",
    "\n",
    "# preparing training and testing sets\n",
    "X_train, X_test, y_train, y_test = train_test_split(\n",
    "            chef_data,\n",
    "            chef_target,\n",
    "            test_size = 0.25,\n",
    "            random_state = user_random_state)\n",
    "\n"
   ]
  },
  {
   "cell_type": "markdown",
   "metadata": {},
   "source": [
    "Creates the correlation and its heat map (visual analysis). No strong insights from here."
   ]
  },
  {
   "cell_type": "code",
   "execution_count": 6,
   "metadata": {},
   "outputs": [],
   "source": [
    "# Cell commented for delivery purposes\n",
    "##############################################################################\n",
    "# correlation heatmap\n",
    "# this information was created tochef_data support the analysis of the data\n",
    "##############################################################################\n",
    "#\n",
    "# merging training data for statsmodels\n",
    "#chef_train = pd.concat([X_train, y_train], axis = 1)\n",
    "#\n",
    "#df_corr = chef_train.corr().round(2)\n",
    "#df_corr = df_corr.iloc[0:25, 0:25]\n",
    "#\n",
    "#fig, ax = plt.subplots(figsize=(15,15))\n",
    "#\n",
    "#sns.heatmap(df_corr,\n",
    "#            cmap = 'coolwarm',\n",
    "#            square = True,\n",
    "#            annot = True,\n",
    "#            linecolor = 'black',\n",
    "#            linewidths = 0.5)\n",
    "#\n",
    "#plt.show()"
   ]
  },
  {
   "cell_type": "code",
   "execution_count": 7,
   "metadata": {},
   "outputs": [],
   "source": [
    "##############################################################################\n",
    "# Formatted the columns to easely code the creation of datasets and model\n",
    "# commented for delivery\n",
    "##############################################################################\n",
    "#for col in chef.columns:\n",
    "#    print(f\"chef_train['{col}'] +\")"
   ]
  },
  {
   "cell_type": "markdown",
   "metadata": {},
   "source": [
    "Build the first logit model with all the numeric variables and print its\n",
    "summary for analysis."
   ]
  },
  {
   "cell_type": "code",
   "execution_count": 8,
   "metadata": {},
   "outputs": [],
   "source": [
    "##############################################################################\n",
    "# This cell was used to check the model with all the variables\n",
    "# Commented for the delivery\n",
    "##############################################################################\n",
    "\n",
    "# merging training data for statsmodels\n",
    "#chef_train = pd.concat([X_train, y_train], axis = 1)\n",
    "\n",
    "# Step 1: build a model\n",
    "#logistic_full = smf.logit(formula =  \"\"\"CROSS_SELL_SUCCESS ~\n",
    "#                                        chef_train['REVENUE'] +\n",
    "#                                        chef_train['TOTAL_MEALS_ORDERED'] +\n",
    "#                                        chef_train['UNIQUE_MEALS_PURCH'] +\n",
    "#                                        chef_train['CONTACTS_W_CUSTOMER_SERVICE'] +\n",
    "#                                        chef_train['PRODUCT_CATEGORIES_VIEWED'] +\n",
    "#                                        chef_train['AVG_TIME_PER_SITE_VISIT'] +\n",
    "#                                        chef_train['MOBILE_NUMBER'] +\n",
    "#                                        chef_train['CANCELLATIONS_BEFORE_NOON'] +\n",
    "#                                        chef_train['CANCELLATIONS_AFTER_NOON'] +\n",
    "#                                        chef_train['TASTES_AND_PREFERENCES'] +\n",
    "#                                        chef_train['MOBILE_LOGINS'] +\n",
    "#                                        chef_train['PC_LOGINS'] +\n",
    "#                                        chef_train['WEEKLY_PLAN'] +\n",
    "#                                        chef_train['EARLY_DELIVERIES'] +\n",
    "#                                        chef_train['LATE_DELIVERIES'] +\n",
    "#                                        chef_train['PACKAGE_LOCKER'] +\n",
    "#                                        chef_train['REFRIGERATED_LOCKER'] +\n",
    "#                                        chef_train['FOLLOWED_RECOMMENDATIONS_PCT'] +\n",
    "#                                        chef_train['AVG_PREP_VID_TIME'] +\n",
    "#                                        chef_train['LARGEST_ORDER_SIZE'] +\n",
    "#                                        chef_train['MASTER_CLASSES_ATTENDED'] +\n",
    "#                                        chef_train['MEDIAN_MEAL_RATING'] +\n",
    "#                                        chef_train['AVG_CLICKS_PER_VISIT'] +\n",
    "#                                        chef_train['TOTAL_PHOTOS_VIEWED'] +\n",
    "#                                        chef_train['junk'] +\n",
    "#                                        chef_train['personal'] +\n",
    "#                                        chef_train['professional']\"\"\",\n",
    "#                                        data = chef_train)\n",
    "#\n",
    "# Step 2: fit the model based on the data\n",
    "#results = logistic_full.fit()\n",
    "#\n",
    "# Step 3: analyze the summary output\n",
    "#print(results.summary())"
   ]
  },
  {
   "cell_type": "markdown",
   "metadata": {},
   "source": [
    "When analyzing the data, the histograms supported the decision the cut offs for each variable, which was used to create binary variables. For the delivery, the graphs will not be plotted and the code will be commented."
   ]
  },
  {
   "cell_type": "code",
   "execution_count": 9,
   "metadata": {
    "scrolled": true
   },
   "outputs": [],
   "source": [
    "# Commented for delivery\n",
    "##############################################################################\n",
    "# Visual EDA (Histograms)\n",
    "##############################################################################\n",
    "#charcol = ['NAME', 'EMAIL', 'FIRST_NAME', 'FAMILY_NAME', \n",
    "#           'personal_email_domain']\n",
    "#\n",
    "#for col in chef.columns:\n",
    "#    if col not in charcol:\n",
    "#        fig, ax = plt.subplots(figsize = (10, 8))\n",
    "#        sns.distplot(chef[col])                 \n",
    "#        plt.xlabel(col)"
   ]
  },
  {
   "cell_type": "markdown",
   "metadata": {},
   "source": [
    "Based on the histograms, heatmap and logit model, I selected some variables to generate others that are binary."
   ]
  },
  {
   "cell_type": "code",
   "execution_count": 10,
   "metadata": {},
   "outputs": [],
   "source": [
    "##############################################################################\n",
    "# setting outlier thresholds\n",
    "##############################################################################\n",
    "\n",
    "REVENUE_HI = 2000            # Low / High revenue\n",
    "TOTAL_MEALS_ORDERED_HI = 100 # Low / High number or meals orderes\n",
    "UNIQUE_MEALS_PURCH_HI = 5    # Low / High number of unique meals\n",
    "CONTACTS_W_CUSTOMER_SERVICE_HI = 7  # Low / High number of calls to customer service\n",
    "AVG_TIME_PER_SITE_VISIT_HI = 130    # Low / High average of site usage\n",
    "CANCELLATIONS_BEFORE_NOON_HI = 1    # More than 1 cancellation before noon\n",
    "CANCELLATIONS_AFTER_NOON_HI = 0     # Has cancellations after noon\n",
    "MOBILE_LOGINS_LO = 5                # Number of mobile logins close to the average\n",
    "MOBILE_LOGINS_HI = 6                # Number of mobile logins close to the average\n",
    "PC_LOGINS_LO = 1                    # Number of pc logins close to the average\n",
    "PC_LOGINS_HI = 2                    # Number of pc logins close to the average\n",
    "EARLY_DELIVERIES_HI = 0             # Used early deliveries or not\n",
    "LATE_DELIVERIES_HI = 2              # Used more than 2 late deliveries\n",
    "FOLLOWED_RECOMMENDATIONS_PCT_HI = 30 # Used over 30% of recommendations\n",
    "AVG_PREP_VID_TIME_HI = 150          # watched over 150 seconds of video or not\n",
    "LARGEST_ORDER_SIZE_HI = 4           # has ordered over 4 meals in the same order\n",
    "MASTER_CLASSES_ATTENDED_HI = 0      # attended master class or not\n",
    "AVG_CLICKS_PER_VISIT_LO = 12        # clicks per visit close to the average\n",
    "AVG_CLICKS_PER_VISIT_HI = 15        # clicks per visit close to the average\n",
    "TOTAL_PHOTOS_VIEWED_HI = 0          # view photos or not\n",
    "\n",
    "##############################################################################\n",
    "## Feature Engineering - create flags for intervals for continuous data     ##\n",
    "##############################################################################\n",
    "## function to handle the data                                              ##\n",
    "##############################################################################\n",
    "def flag_columns (column, hi_cut, low_cut = 0):\n",
    "    chef['FLAG_'+column] = 0\n",
    "    condition_hi = chef.loc[0:,'FLAG_'+column][chef[column] > hi_cut]\n",
    "    condition_lo = chef.loc[0:,'FLAG_'+column][chef[column] < low_cut]\n",
    "    chef['FLAG_'+column].replace(to_replace = condition_hi,\n",
    "                                               value      = 1,\n",
    "                                               inplace    = True)\n",
    "    chef['FLAG_'+column].replace(to_replace = condition_lo,\n",
    "                                               value      = 1,\n",
    "                                               inplace    = True)\n",
    "\n",
    "##############################################################################\n",
    "# Create flags\n",
    "##############################################################################\n",
    "flag_columns('REVENUE', REVENUE_HI)\n",
    "flag_columns('TOTAL_MEALS_ORDERED', TOTAL_MEALS_ORDERED_HI)\n",
    "flag_columns('UNIQUE_MEALS_PURCH', UNIQUE_MEALS_PURCH_HI)\n",
    "flag_columns('CONTACTS_W_CUSTOMER_SERVICE', CONTACTS_W_CUSTOMER_SERVICE_HI)\n",
    "flag_columns('AVG_TIME_PER_SITE_VISIT', AVG_TIME_PER_SITE_VISIT_HI)\n",
    "flag_columns('CANCELLATIONS_BEFORE_NOON', CANCELLATIONS_BEFORE_NOON_HI)\n",
    "flag_columns('CANCELLATIONS_AFTER_NOON', CANCELLATIONS_AFTER_NOON_HI)\n",
    "flag_columns('PC_LOGINS', PC_LOGINS_HI, PC_LOGINS_LO)\n",
    "flag_columns('MOBILE_LOGINS', MOBILE_LOGINS_HI, MOBILE_LOGINS_LO)\n",
    "flag_columns('EARLY_DELIVERIES', EARLY_DELIVERIES_HI)\n",
    "flag_columns('LATE_DELIVERIES', LATE_DELIVERIES_HI)\n",
    "flag_columns('FOLLOWED_RECOMMENDATIONS_PCT', FOLLOWED_RECOMMENDATIONS_PCT_HI)\n",
    "flag_columns('AVG_PREP_VID_TIME', AVG_PREP_VID_TIME_HI)\n",
    "flag_columns('LARGEST_ORDER_SIZE', LARGEST_ORDER_SIZE_HI)\n",
    "flag_columns('MASTER_CLASSES_ATTENDED', MASTER_CLASSES_ATTENDED_HI)\n",
    "flag_columns('AVG_CLICKS_PER_VISIT', AVG_CLICKS_PER_VISIT_HI, AVG_CLICKS_PER_VISIT_LO)\n",
    "flag_columns('TOTAL_PHOTOS_VIEWED', TOTAL_PHOTOS_VIEWED_HI)"
   ]
  },
  {
   "cell_type": "markdown",
   "metadata": {},
   "source": [
    "Variable created to check if the subscription in another service may help in the cross sale."
   ]
  },
  {
   "cell_type": "code",
   "execution_count": 11,
   "metadata": {},
   "outputs": [],
   "source": [
    "##############################################################################\n",
    "# New columns based on independent variables\n",
    "##############################################################################\n",
    "# creates a binary variable to identify if the user uses or not weekly plan\n",
    "# 0 = no / 1 = yes\n",
    "##############################################################################\n",
    "chef['FLAG_WEEKLY_PLAN'] = 0\n",
    "condition = chef.loc[0:,'FLAG_WEEKLY_PLAN'] \\\n",
    "                    [chef['WEEKLY_PLAN'] != 0]\n",
    "\n",
    "chef['FLAG_WEEKLY_PLAN'].replace(to_replace = condition,\n",
    "                                 value      = 1,\n",
    "                                 inplace    = True)"
   ]
  },
  {
   "cell_type": "markdown",
   "metadata": {},
   "source": [
    "After testing the model with both file, standardized and not, the best model didn't show any difference. Therefore, the file will not be standardized."
   ]
  },
  {
   "cell_type": "code",
   "execution_count": 12,
   "metadata": {},
   "outputs": [],
   "source": [
    "##############################################################################\n",
    "# Create the standardized file to use in linear models\n",
    "##############################################################################\n",
    "# INSTANTIATING a StandardScaler() object\n",
    "#scaler = StandardScaler()\n",
    "#\n",
    "# FITTING the scaler with housing_data\n",
    "#scaler.fit(chef_data)\n",
    "#\n",
    "# TRANSFORMING our data after fit\n",
    "#X_scaled = scaler.transform(chef_data)\n",
    "#\n",
    "# converting scaled data into a DataFrame\n",
    "#X_scaled_df = pd.DataFrame(X_scaled)\n",
    "#\n",
    "# checking the results\n",
    "#X_scaled_df.describe().round(2)\n",
    "#\n",
    "#X_scaled_df.columns = chef_data.columns\n",
    "#\n",
    "# preparing training and testing sets\n",
    "#X_train, X_test, y_train, y_test = train_test_split(\n",
    "#            X_scaled_df,\n",
    "#            chef_target,\n",
    "#            test_size = 0.25,\n",
    "#            random_state = user_random_state)"
   ]
  },
  {
   "cell_type": "markdown",
   "metadata": {},
   "source": [
    "This session will prepare the file to explore the logit model, starting with all the variables and removing \n",
    "those with high p-value."
   ]
  },
  {
   "cell_type": "code",
   "execution_count": 13,
   "metadata": {},
   "outputs": [],
   "source": [
    "##############################################################################\n",
    "# preparing explanatory variable data \n",
    "# It allowed the analysis of P-values and coefficients\n",
    "##############################################################################\n",
    "\n",
    "chef_data   = chef.drop(['CROSS_SELL_SUCCESS', 'NAME',\n",
    "                         'EMAIL', 'FIRST_NAME', 'FAMILY_NAME',\n",
    "                         'personal_email_domain'],\n",
    "                          axis = 1)\n",
    "\n",
    "# preparing response variable data\n",
    "chef_target = chef.loc[:, 'CROSS_SELL_SUCCESS']\n",
    "\n",
    "\n",
    "# preparing training and testing sets\n",
    "X_train, X_test, y_train, y_test = train_test_split(\n",
    "            chef_data,\n",
    "            chef_target,\n",
    "            test_size = 0.25,\n",
    "            random_state = user_random_state)"
   ]
  },
  {
   "cell_type": "markdown",
   "metadata": {},
   "source": [
    "First model created with all columns. It's commented, since the optimized model is built below."
   ]
  },
  {
   "cell_type": "code",
   "execution_count": 14,
   "metadata": {},
   "outputs": [],
   "source": [
    "##############################################################################\n",
    "# This cell was used to refine the formula the variables remained here are\n",
    "# the ones used for the last model\n",
    "##############################################################################\n",
    "#\n",
    "# merging training data for statsmodels\n",
    "#chef_train = pd.concat([X_train, y_train], axis = 1)\n",
    "#\n",
    "# Step 1: build a model\n",
    "#logistic_full = smf.logit(formula =  \"\"\"CROSS_SELL_SUCCESS ~\n",
    "#                                        chef_train['REVENUE'] +\n",
    "#                                        chef_train['TOTAL_MEALS_ORDERED'] +\n",
    "#                                        chef_train['UNIQUE_MEALS_PURCH'] +\n",
    "#                                        chef_train['CONTACTS_W_CUSTOMER_SERVICE'] +\n",
    "#                                        chef_train['PRODUCT_CATEGORIES_VIEWED'] +\n",
    "#                                        chef_train['AVG_TIME_PER_SITE_VISIT'] +\n",
    "#                                        chef_train['MOBILE_NUMBER'] +\n",
    "#                                        chef_train['CANCELLATIONS_BEFORE_NOON'] +\n",
    "#                                        chef_train['CANCELLATIONS_AFTER_NOON'] +\n",
    "#                                        chef_train['TASTES_AND_PREFERENCES'] +\n",
    "#                                        chef_train['MOBILE_LOGINS'] +\n",
    "#                                        chef_train['PC_LOGINS'] +\n",
    "#                                        chef_train['WEEKLY_PLAN'] +\n",
    "#                                        chef_train['EARLY_DELIVERIES'] +\n",
    "#                                        chef_train['LATE_DELIVERIES'] +\n",
    "#                                        chef_train['PACKAGE_LOCKER'] +\n",
    "#                                        chef_train['REFRIGERATED_LOCKER'] +\n",
    "#                                        chef_train['FOLLOWED_RECOMMENDATIONS_PCT'] +\n",
    "#                                        chef_train['AVG_PREP_VID_TIME'] +\n",
    "#                                        chef_train['LARGEST_ORDER_SIZE'] +\n",
    "#                                        chef_train['MASTER_CLASSES_ATTENDED'] +\n",
    "#                                        chef_train['MEDIAN_MEAL_RATING'] +\n",
    "#                                        chef_train['AVG_CLICKS_PER_VISIT'] +\n",
    "#                                        chef_train['TOTAL_PHOTOS_VIEWED'] +\n",
    "#                                        chef_train['junk'] +\n",
    "#                                        chef_train['professional'] +\n",
    "#                                        chef_train['FLAG_REVENUE'] +\n",
    "#                                        chef_train['FLAG_TOTAL_MEALS_ORDERED'] +\n",
    "#                                        chef_train['FLAG_UNIQUE_MEALS_PURCH'] +\n",
    "#                                        chef_train['FLAG_CONTACTS_W_CUSTOMER_SERVICE'] +\n",
    "#                                        chef_train['FLAG_AVG_TIME_PER_SITE_VISIT'] +\n",
    "#                                        chef_train['FLAG_CANCELLATIONS_BEFORE_NOON'] +\n",
    "#                                        chef_train['FLAG_CANCELLATIONS_AFTER_NOON'] +\n",
    "#                                        chef_train['FLAG_MOBILE_LOGINS'] +\n",
    "#                                        chef_train['FLAG_PC_LOGINS'] +\n",
    "#                                        chef_train['FLAG_EARLY_DELIVERIES'] +\n",
    "#                                        chef_train['FLAG_LATE_DELIVERIES'] +\n",
    "#                                        chef_train['FLAG_FOLLOWED_RECOMMENDATIONS_PCT'] +\n",
    "#                                        chef_train['FLAG_AVG_PREP_VID_TIME'] +\n",
    "#                                        chef_train['FLAG_LARGEST_ORDER_SIZE'] +\n",
    "#                                        chef_train['FLAG_MASTER_CLASSES_ATTENDED'] +\n",
    "#                                        chef_train['FLAG_AVG_CLICKS_PER_VISIT'] +\n",
    "#                                        chef_train['FLAG_TOTAL_PHOTOS_VIEWED'] +\n",
    "#                                        chef_train['FLAG_WEEKLY_PLAN']\"\"\",\n",
    "#                                        data = chef_train)\n",
    "#\n",
    "# Step 2: fit the model based on the data\n",
    "#results = logistic_full.fit()\n",
    "#\n",
    "# Step 3: analyze the summary output\n",
    "#print(results.summary())"
   ]
  },
  {
   "cell_type": "markdown",
   "metadata": {},
   "source": [
    "After iterating with the model and removing, one by one, the variables with high p-values, this is the final logit\n",
    "model."
   ]
  },
  {
   "cell_type": "code",
   "execution_count": 15,
   "metadata": {},
   "outputs": [
    {
     "name": "stdout",
     "output_type": "stream",
     "text": [
      "Optimization terminated successfully.\n",
      "         Current function value: 0.434745\n",
      "         Iterations 7\n",
      "                           Logit Regression Results                           \n",
      "==============================================================================\n",
      "Dep. Variable:     CROSS_SELL_SUCCESS   No. Observations:                 1459\n",
      "Model:                          Logit   Df Residuals:                     1450\n",
      "Method:                           MLE   Df Model:                            8\n",
      "Date:                Wed, 05 Feb 2020   Pseudo R-squ.:                  0.3060\n",
      "Time:                        21:24:53   Log-Likelihood:                -634.29\n",
      "converged:                       True   LL-Null:                       -913.94\n",
      "Covariance Type:            nonrobust   LLR p-value:                1.311e-115\n",
      "================================================================================================================\n",
      "                                                   coef    std err          z      P>|z|      [0.025      0.975]\n",
      "----------------------------------------------------------------------------------------------------------------\n",
      "Intercept                                       -1.4178      0.324     -4.380      0.000      -2.052      -0.783\n",
      "chef_train['MOBILE_NUMBER']                      0.8010      0.203      3.950      0.000       0.404       1.198\n",
      "chef_train['TASTES_AND_PREFERENCES']             0.5120      0.150      3.405      0.001       0.217       0.807\n",
      "chef_train['PC_LOGINS']                         -0.3812      0.133     -2.872      0.004      -0.641      -0.121\n",
      "chef_train['FOLLOWED_RECOMMENDATIONS_PCT']       0.0587      0.004     14.488      0.000       0.051       0.067\n",
      "chef_train['junk']                              -1.2810      0.178     -7.196      0.000      -1.630      -0.932\n",
      "chef_train['professional']                       0.5671      0.162      3.500      0.000       0.250       0.885\n",
      "chef_train['FLAG_CANCELLATIONS_BEFORE_NOON']     0.7183      0.151      4.751      0.000       0.422       1.015\n",
      "chef_train['FLAG_CANCELLATIONS_AFTER_NOON']     -0.4797      0.193     -2.485      0.013      -0.858      -0.101\n",
      "================================================================================================================\n"
     ]
    }
   ],
   "source": [
    "##############################################################################\n",
    "# This cell was used to refine the formula the variables remained here are\n",
    "# the ones used for the last model\n",
    "##############################################################################\n",
    "\n",
    "# merging training data for statsmodels\n",
    "chef_train = pd.concat([X_train, y_train], axis = 1)\n",
    "\n",
    "# Step 1: build a model\n",
    "logistic_sig = smf.logit(formula =  \"\"\"CROSS_SELL_SUCCESS ~\n",
    "                                        chef_train['MOBILE_NUMBER'] +\n",
    "                                        chef_train['TASTES_AND_PREFERENCES'] +\n",
    "                                        chef_train['PC_LOGINS'] +\n",
    "                                        chef_train['FOLLOWED_RECOMMENDATIONS_PCT'] +\n",
    "                                        chef_train['junk'] +\n",
    "                                        chef_train['professional'] +\n",
    "                                        chef_train['FLAG_CANCELLATIONS_BEFORE_NOON'] +\n",
    "                                        chef_train['FLAG_CANCELLATIONS_AFTER_NOON']\"\"\",\n",
    "                                        data = chef_train)\n",
    "\n",
    "# Step 2: fit the model based on the data\n",
    "results = logistic_sig.fit()\n",
    "\n",
    "# Step 3: analyze the summary output\n",
    "print(results.summary())"
   ]
  },
  {
   "cell_type": "markdown",
   "metadata": {},
   "source": [
    "In this session the file was saved to keep testing models without running all the engineering process."
   ]
  },
  {
   "cell_type": "code",
   "execution_count": 16,
   "metadata": {},
   "outputs": [],
   "source": [
    "##############################################################################\n",
    "# While testing, to save time, the dataframe was saved and used for the \n",
    "# next steps. Commented for delivery\n",
    "##############################################################################\n",
    "#chef.to_excel(\"chef_with_all_flags.xlsx\",\n",
    "#                 index = False)"
   ]
  },
  {
   "cell_type": "markdown",
   "metadata": {},
   "source": [
    "Creates a dictionary with the all an entry for all the variables and another one with only the significant ones."
   ]
  },
  {
   "cell_type": "code",
   "execution_count": 17,
   "metadata": {},
   "outputs": [],
   "source": [
    "##############################################################################\n",
    "# Creates the dictionary\n",
    "##############################################################################\n",
    "candidate_dict = {\n",
    "\n",
    " # full model\n",
    " 'logit_full'   : [ 'REVENUE',\n",
    "                    'TOTAL_MEALS_ORDERED',\n",
    "                    'UNIQUE_MEALS_PURCH',\n",
    "                    'CONTACTS_W_CUSTOMER_SERVICE',\n",
    "                    'PRODUCT_CATEGORIES_VIEWED',\n",
    "                    'AVG_TIME_PER_SITE_VISIT',\n",
    "                    'MOBILE_NUMBER',\n",
    "                    'CANCELLATIONS_BEFORE_NOON',\n",
    "                    'CANCELLATIONS_AFTER_NOON',\n",
    "                    'TASTES_AND_PREFERENCES',\n",
    "                    'MOBILE_LOGINS',\n",
    "                    'PC_LOGINS',\n",
    "                    'WEEKLY_PLAN',\n",
    "                    'EARLY_DELIVERIES',\n",
    "                    'LATE_DELIVERIES',\n",
    "                    'PACKAGE_LOCKER',\n",
    "                    'REFRIGERATED_LOCKER',\n",
    "                    'FOLLOWED_RECOMMENDATIONS_PCT',\n",
    "                    'AVG_PREP_VID_TIME',\n",
    "                    'LARGEST_ORDER_SIZE',\n",
    "                    'MASTER_CLASSES_ATTENDED',\n",
    "                    'MEDIAN_MEAL_RATING',\n",
    "                    'AVG_CLICKS_PER_VISIT',\n",
    "                    'TOTAL_PHOTOS_VIEWED',\n",
    "                    'junk',\n",
    "                    'personal',\n",
    "                    'professional',\n",
    "                    'FLAG_REVENUE',\n",
    "                    'FLAG_TOTAL_MEALS_ORDERED',\n",
    "                    'FLAG_UNIQUE_MEALS_PURCH',\n",
    "                    'FLAG_CONTACTS_W_CUSTOMER_SERVICE',\n",
    "                    'FLAG_AVG_TIME_PER_SITE_VISIT',\n",
    "                    'FLAG_CANCELLATIONS_BEFORE_NOON',\n",
    "                    'FLAG_CANCELLATIONS_AFTER_NOON',\n",
    "                    'FLAG_MOBILE_LOGINS',\n",
    "                    'FLAG_PC_LOGINS',\n",
    "                    'FLAG_EARLY_DELIVERIES',\n",
    "                    'FLAG_LATE_DELIVERIES',\n",
    "                    'FLAG_FOLLOWED_RECOMMENDATIONS_PCT',\n",
    "                    'FLAG_AVG_PREP_VID_TIME',\n",
    "                    'FLAG_LARGEST_ORDER_SIZE',\n",
    "                    'FLAG_MASTER_CLASSES_ATTENDED',\n",
    "                    'FLAG_AVG_CLICKS_PER_VISIT',\n",
    "                    'FLAG_TOTAL_PHOTOS_VIEWED',\n",
    "                    'FLAG_WEEKLY_PLAN'],\n",
    " \n",
    " # significant variables only\n",
    " 'logit_sig'    : ['MOBILE_NUMBER',\n",
    "                    'TASTES_AND_PREFERENCES',\n",
    "                    'PC_LOGINS',\n",
    "                    'FOLLOWED_RECOMMENDATIONS_PCT',\n",
    "                    'junk',\n",
    "                    'professional',\n",
    "                    'FLAG_CANCELLATIONS_BEFORE_NOON',\n",
    "                    'FLAG_CANCELLATIONS_AFTER_NOON']\n",
    "\n",
    "}"
   ]
  },
  {
   "cell_type": "code",
   "execution_count": 18,
   "metadata": {},
   "outputs": [],
   "source": [
    "##############################################################################\n",
    "# Prepare the dataframe with the significant variables to run with the models\n",
    "##############################################################################\n",
    "\n",
    "chef_data   = chef.loc[ : , candidate_dict['logit_sig']]\n",
    "\n",
    "# preparing response variable data\n",
    "chef_target = chef.loc[:, 'CROSS_SELL_SUCCESS']\n",
    "\n",
    "\n",
    "# preparing training and testing sets\n",
    "X_train, X_test, y_train, y_test = train_test_split(\n",
    "            chef_data,\n",
    "            chef_target,\n",
    "            test_size = 0.25,\n",
    "            random_state = user_random_state)"
   ]
  },
  {
   "cell_type": "markdown",
   "metadata": {},
   "source": [
    "total_performance is a dataframe used to store the score of each model. After calling the function\n",
    " exec_model, the caller can add a new row to it"
   ]
  },
  {
   "cell_type": "code",
   "execution_count": 19,
   "metadata": {},
   "outputs": [],
   "source": [
    "##############################################################################\n",
    "# (Re)Creates a dataframe with the result of each run of each model\n",
    "##############################################################################\n",
    "total_performance = pd.DataFrame(columns=['Model', 'Training', 'Testing', \n",
    "                                          'AUC', 'CMatrix'])"
   ]
  },
  {
   "cell_type": "markdown",
   "metadata": {},
   "source": [
    "To make it easier to run the models, exec_model receives the name and an instance of \n",
    "the model, returning an dataframe with the model and its scores\n",
    "The following cells will call the function with some linear models"
   ]
  },
  {
   "cell_type": "code",
   "execution_count": 20,
   "metadata": {},
   "outputs": [],
   "source": [
    "##############################################################################\n",
    "# It receives the model's name and an instance of the model to:\n",
    "# - fit\n",
    "# - predict\n",
    "# - score\n",
    "# Returns a dataframe with the score of the model that may be added to the \n",
    "# total_performance dataframe\n",
    "##############################################################################\n",
    "def exec_model(modelo='Linear Regression', mod=sklearn.linear_model.LinearRegression()):\n",
    "    # FITTING to the training data\n",
    "    mod_fit = mod.fit(X_train, y_train)\n",
    "\n",
    "    # PREDICTING on new data\n",
    "    mod_pred = mod_fit.predict(X_test)\n",
    "\n",
    "    mod_score_train = mod.score(X_train, y_train).round(4)\n",
    "    mod_score_test  = mod.score(X_test, y_test).round(4)\n",
    "    mod_auc_score   = roc_auc_score(y_true  = y_test, y_score = mod_pred).round(4)\n",
    "##############################################################################\n",
    "# Print the confusion matrix of the model\n",
    "##############################################################################\n",
    "    mod_con_matrix = confusion_matrix(y_true = y_test, y_pred = mod_pred)\n",
    "\n",
    "    return pd.DataFrame({'Model'    : [modelo],\n",
    "                         'Training' : [mod_score_train],\n",
    "                         'Testing'  : [mod_score_test],\n",
    "                         'AUC'      : [mod_auc_score],\n",
    "                         'CMatrix'  : [mod_con_matrix]})"
   ]
  },
  {
   "cell_type": "markdown",
   "metadata": {},
   "source": [
    "This cell constains functions provided by Prof. Chase to draw the tree and the\n",
    "importance of the features."
   ]
  },
  {
   "cell_type": "code",
   "execution_count": 21,
   "metadata": {},
   "outputs": [],
   "source": [
    "########################################\n",
    "# display_tree\n",
    "########################################\n",
    "def display_tree(tree, feature_df, height = 500, width = 800):\n",
    "    \"\"\"\n",
    "    PARAMETERS\n",
    "    ----------\n",
    "    tree       : fitted tree model object\n",
    "        fitted CART model to visualized\n",
    "    feature_df : DataFrame\n",
    "        DataFrame of explanatory features (used to generate labels)\n",
    "    height     : int, default 500\n",
    "        height in pixels to which to constrain image in html\n",
    "    width      : int, default 800\n",
    "        width in pixels to which to constrain image in html\n",
    "    \"\"\"\n",
    "\n",
    "    # visualizing the tree\n",
    "    dot_data = StringIO()\n",
    "\n",
    "    \n",
    "    # exporting tree to graphviz\n",
    "    export_graphviz(decision_tree      = tree,\n",
    "                    out_file           = dot_data,\n",
    "                    filled             = True,\n",
    "                    rounded            = True,\n",
    "                    special_characters = True,\n",
    "                    feature_names      = feature_df.columns)\n",
    "\n",
    "\n",
    "    # declaring a graph object\n",
    "    graph = pydotplus.graph_from_dot_data(dot_data.getvalue())\n",
    "\n",
    "\n",
    "    # creating image\n",
    "    img = Image(graph.create_png(),\n",
    "                height = height,\n",
    "                width  = width)\n",
    "    \n",
    "    return img\n",
    "\n",
    "########################################\n",
    "# plot_feature_importances\n",
    "########################################\n",
    "def plot_feature_importances(model, train, export = False):\n",
    "    \"\"\"\n",
    "    Plots the importance of features from a CART model.\n",
    "    \n",
    "    PARAMETERS\n",
    "    ----------\n",
    "    model  : CART model\n",
    "    train  : explanatory variable training data\n",
    "    export : whether or not to export as a .png image, default False\n",
    "    \"\"\"\n",
    "    \n",
    "    # declaring the number\n",
    "    n_features = X_train.shape[1]\n",
    "    \n",
    "    # setting plot window\n",
    "    fig, ax = plt.subplots(figsize=(12,9))\n",
    "    \n",
    "    plt.barh(range(n_features), model.feature_importances_, align='center')\n",
    "    plt.yticks(pd.np.arange(n_features), train.columns)\n",
    "    plt.xlabel(\"Feature importance\")\n",
    "    plt.ylabel(\"Feature\")\n",
    "    \n",
    "    if export == True:\n",
    "        plt.savefig('Tree_Leaf_50_Feature_Importance.png')"
   ]
  },
  {
   "cell_type": "code",
   "execution_count": 22,
   "metadata": {
    "scrolled": false
   },
   "outputs": [],
   "source": [
    "##############################################################################\n",
    "# INSTANTIATING a logistic regression model object\n",
    "##############################################################################\n",
    "modelo = 'Logistic Regression'\n",
    "mod = sklearn.linear_model.LogisticRegression(solver = 'lbfgs',\n",
    "                            C = 1,\n",
    "                            random_state = user_random_state)\n",
    "\n",
    "# concatenating with former performance DataFrame\n",
    "total_performance = pd.concat([total_performance, exec_model(modelo,mod)],\n",
    "                              axis = 0)"
   ]
  },
  {
   "cell_type": "code",
   "execution_count": 23,
   "metadata": {},
   "outputs": [],
   "source": [
    "##############################################################################\n",
    "# INSTANTIATING a KNN model object\n",
    "##############################################################################\n",
    "modelo = 'KNN'\n",
    "mod = KNeighborsRegressor(algorithm = 'auto',\n",
    "                              n_neighbors = 1)\n",
    "\n",
    "# concatenating with former performance DataFrame\n",
    "total_performance = pd.concat([total_performance, exec_model(modelo,mod)],\n",
    "                              axis = 0)"
   ]
  },
  {
   "cell_type": "code",
   "execution_count": 24,
   "metadata": {},
   "outputs": [],
   "source": [
    "##############################################################################\n",
    "# INSTANTIATING a Tree model object with no prune limit\n",
    "# This cell is commented, since the analysis showed that the prune tree \n",
    "# performs better than this\n",
    "##############################################################################\n",
    "#modelo = 'Tree'\n",
    "#mod = DecisionTreeClassifier()\n",
    "#\n",
    "# concatenating with former performance DataFrame\n",
    "#total_performance = pd.concat([total_performance, exec_model(modelo,mod)],\n",
    "#                              axis = 0)\n",
    "#\n",
    "# plotting feature importance\n",
    "#plot_feature_importances(mod,\n",
    "#                         train = X_train,\n",
    "#                         export = False)\n",
    "#\n",
    "# calling display_tree\n",
    "#display_tree(tree       = mod,\n",
    "#             feature_df = X_train)"
   ]
  },
  {
   "cell_type": "code",
   "execution_count": 25,
   "metadata": {},
   "outputs": [
    {
     "data": {
      "image/png": "[encoded data removed]",
      "text/plain": [
       "<IPython.core.display.Image object>"
      ]
     },
     "execution_count": 25,
     "metadata": {
      "image/png": {
       "height": 500,
       "width": 800
      }
     },
     "output_type": "execute_result"
    },
    {
     "data": {
      "image/png": "[encoded data removed]",
      "text/plain": [
       "<Figure size 864x648 with 1 Axes>"
      ]
     },
     "metadata": {
      "needs_background": "light"
     },
     "output_type": "display_data"
    }
   ],
   "source": [
    "##############################################################################\n",
    "# INSTANTIATING a LINEAR REGRESSION model object\n",
    "##############################################################################\n",
    "modelo = 'Pruned Tree'\n",
    "mod = DecisionTreeClassifier(max_depth = 4,\n",
    "                              min_samples_leaf = 25,\n",
    "                              random_state = user_random_state)\n",
    "\n",
    "\n",
    "# concatenating with former performance DataFrame\n",
    "total_performance = pd.concat([total_performance, exec_model(modelo,mod)],\n",
    "                              axis = 0)\n",
    "\n",
    "# plotting feature importance\n",
    "plot_feature_importances(mod,\n",
    "                         train = X_train,\n",
    "                         export = False)\n",
    "\n",
    "# calling display_tree\n",
    "display_tree(tree       = mod,\n",
    "             feature_df = X_train)\n",
    "\n"
   ]
  },
  {
   "cell_type": "code",
   "execution_count": 26,
   "metadata": {},
   "outputs": [],
   "source": [
    "##############################################################################\n",
    "# INSTANTIATING a LINEAR REGRESSION model object\n",
    "##############################################################################\n",
    "modelo = 'Random Forest'\n",
    "mod = RandomForestClassifier(n_estimators=200)\n",
    "\n",
    "# concatenating with former performance DataFrame\n",
    "total_performance = pd.concat([total_performance, exec_model(modelo,mod)],\n",
    "                              axis = 0)"
   ]
  },
  {
   "cell_type": "code",
   "execution_count": 27,
   "metadata": {},
   "outputs": [],
   "source": [
    "##############################################################################\n",
    "# INSTANTIATING a LINEAR REGRESSION model object\n",
    "##############################################################################\n",
    "modelo = 'Gradient Boosting'\n",
    "mod = GradientBoostingClassifier(loss          = 'deviance',\n",
    "                                  learning_rate = 0.1,\n",
    "                                  n_estimators  = 100,\n",
    "                                  criterion     = 'friedman_mse',\n",
    "                                  max_depth     = 3,\n",
    "                                  warm_start    = False,\n",
    "                                  random_state  = user_random_state)\n",
    "\n",
    "# concatenating with former performance DataFrame\n",
    "total_performance = pd.concat([total_performance, exec_model(modelo,mod)],\n",
    "                              axis = 0)"
   ]
  },
  {
   "cell_type": "markdown",
   "metadata": {},
   "source": [
    "Print the total_performance dataframe to compare the result of each model"
   ]
  },
  {
   "cell_type": "code",
   "execution_count": 28,
   "metadata": {},
   "outputs": [
    {
     "data": {
      "text/html": [
       "<div>\n",
       "<style scoped>\n",
       "    .dataframe tbody tr th:only-of-type {\n",
       "        vertical-align: middle;\n",
       "    }\n",
       "\n",
       "    .dataframe tbody tr th {\n",
       "        vertical-align: top;\n",
       "    }\n",
       "\n",
       "    .dataframe thead th {\n",
       "        text-align: right;\n",
       "    }\n",
       "</style>\n",
       "<table border=\"1\" class=\"dataframe\">\n",
       "  <thead>\n",
       "    <tr style=\"text-align: right;\">\n",
       "      <th></th>\n",
       "      <th>Model</th>\n",
       "      <th>Training</th>\n",
       "      <th>Testing</th>\n",
       "      <th>AUC</th>\n",
       "      <th>CMatrix</th>\n",
       "    </tr>\n",
       "  </thead>\n",
       "  <tbody>\n",
       "    <tr>\n",
       "      <th>0</th>\n",
       "      <td>Gradient Boosting</td>\n",
       "      <td>0.8211</td>\n",
       "      <td>0.8214</td>\n",
       "      <td>0.7928</td>\n",
       "      <td>[[113, 46], [41, 287]]</td>\n",
       "    </tr>\n",
       "    <tr>\n",
       "      <th>0</th>\n",
       "      <td>Pruned Tree</td>\n",
       "      <td>0.7841</td>\n",
       "      <td>0.7926</td>\n",
       "      <td>0.7909</td>\n",
       "      <td>[[125, 34], [67, 261]]</td>\n",
       "    </tr>\n",
       "    <tr>\n",
       "      <th>0</th>\n",
       "      <td>Random Forest</td>\n",
       "      <td>0.8465</td>\n",
       "      <td>0.7967</td>\n",
       "      <td>0.7778</td>\n",
       "      <td>[[115, 44], [55, 273]]</td>\n",
       "    </tr>\n",
       "    <tr>\n",
       "      <th>0</th>\n",
       "      <td>Logistic Regression</td>\n",
       "      <td>0.7629</td>\n",
       "      <td>0.7598</td>\n",
       "      <td>0.7179</td>\n",
       "      <td>[[95, 64], [53, 275]]</td>\n",
       "    </tr>\n",
       "    <tr>\n",
       "      <th>0</th>\n",
       "      <td>KNN</td>\n",
       "      <td>0.1077</td>\n",
       "      <td>-0.1112</td>\n",
       "      <td>0.7019</td>\n",
       "      <td>[[87, 72], [47, 281]]</td>\n",
       "    </tr>\n",
       "  </tbody>\n",
       "</table>\n",
       "</div>"
      ],
      "text/plain": [
       "                 Model  Training  Testing     AUC                 CMatrix\n",
       "0    Gradient Boosting    0.8211   0.8214  0.7928  [[113, 46], [41, 287]]\n",
       "0          Pruned Tree    0.7841   0.7926  0.7909  [[125, 34], [67, 261]]\n",
       "0        Random Forest    0.8465   0.7967  0.7778  [[115, 44], [55, 273]]\n",
       "0  Logistic Regression    0.7629   0.7598  0.7179   [[95, 64], [53, 275]]\n",
       "0                  KNN    0.1077  -0.1112  0.7019   [[87, 72], [47, 281]]"
      ]
     },
     "execution_count": 28,
     "metadata": {},
     "output_type": "execute_result"
    }
   ],
   "source": [
    "##############################################################################\n",
    "# Sort the dataframe by its testing performance and print it\n",
    "##############################################################################\n",
    "total_performance = total_performance.sort_values(by = 'AUC',\n",
    "                                                  ascending = False)\n",
    "\n",
    "total_performance"
   ]
  },
  {
   "cell_type": "markdown",
   "metadata": {},
   "source": [
    "Due to the importance of FOLLOWED_RECOMMENDATIONS_PCT in the model, I decided to study how the other variables\n",
    "impact it. Since there is an intersection between the independent variables that predicts CROSS_SELL_SUCCESS and a binary variable saying the willingness to follow recommendations, I stopped and kept the ones I had."
   ]
  },
  {
   "cell_type": "code",
   "execution_count": 29,
   "metadata": {},
   "outputs": [],
   "source": [
    "##############################################################################\n",
    "# preparing explanatory variable data for OLS regression\n",
    "# It allowed the analysis of P-values and coefficients\n",
    "##############################################################################\n",
    "#\n",
    "#chef_data   = chef.drop(['CROSS_SELL_SUCCESS', 'NAME',\n",
    "#                         'EMAIL', 'FIRST_NAME', 'FAMILY_NAME',\n",
    "#                         'personal_email_domain',\n",
    "#                         'FLAG_FOLLOWED_RECOMMENDATIONS_PCT'],\n",
    "#                          axis = 1)\n",
    "#\n",
    "# preparing response variable data\n",
    "#chef_target = chef.loc[:, 'FLAG_FOLLOWED_RECOMMENDATIONS_PCT']\n",
    "#\n",
    "#\n",
    "# preparing training and testing sets\n",
    "#X_train, X_test, y_train, y_test = train_test_split(\n",
    "#            chef_data,\n",
    "#            chef_target,\n",
    "#            test_size = 0.25,\n",
    "#            random_state = user_random_state)\n",
    "#\n",
    "##############################################################################\n",
    "# This cell was used to refine the formula the variables remained here are\n",
    "# the ones used for the last model\n",
    "##############################################################################\n",
    "#\n",
    "# merging training data for statsmodels\n",
    "#chef_train = pd.concat([X_train, y_train], axis = 1)\n",
    "#\n",
    "# Step 1: build a model\n",
    "#logistic_full = smf.logit(formula =  \"\"\"FLAG_FOLLOWED_RECOMMENDATIONS_PCT ~\n",
    "#                                        chef_train['CONTACTS_W_CUSTOMER_SERVICE'] +\n",
    "#                                        chef_train['MOBILE_NUMBER'] +\n",
    "#                                        chef_train['junk'] +\n",
    "#                                        chef_train['FLAG_REVENUE'] +\n",
    "#                                        chef_train['FLAG_CANCELLATIONS_BEFORE_NOON'] +\n",
    "#                                        chef_train['FLAG_CANCELLATIONS_AFTER_NOON'] +\n",
    "#                                        chef_train['FLAG_MASTER_CLASSES_ATTENDED']\n",
    "#                                        \"\"\",\n",
    "#                                        data = chef_train)\n",
    "#\n",
    "# Step 2: fit the model based on the data\n",
    "#results = logistic_full.fit()\n",
    "#\n",
    "# Step 3: analyze the summary output\n",
    "#print(results.summary())"
   ]
  },
  {
   "cell_type": "markdown",
   "metadata": {},
   "source": [
    "After try some combinations and measure both performance and time, I decided to built the final model with the gradient boosting. It performed better at AUC, and the number of true positives is also higher than the other models."
   ]
  }
 ],
 "metadata": {
  "kernelspec": {
   "display_name": "Python 3",
   "language": "python",
   "name": "python3"
  },
  "language_info": {
   "codemirror_mode": {
    "name": "ipython",
    "version": 3
   },
   "file_extension": ".py",
   "mimetype": "text/x-python",
   "name": "python",
   "nbconvert_exporter": "python",
   "pygments_lexer": "ipython3",
   "version": "3.7.3"
  },
  "toc": {
   "base_numbering": 1,
   "nav_menu": {},
   "number_sections": true,
   "sideBar": true,
   "skip_h1_title": false,
   "title_cell": "Table of Contents",
   "title_sidebar": "Contents",
   "toc_cell": false,
   "toc_position": {},
   "toc_section_display": true,
   "toc_window_display": false
  },
  "varInspector": {
   "cols": {
    "lenName": 16,
    "lenType": 16,
    "lenVar": 40
   },
   "kernels_config": {
    "python": {
     "delete_cmd_postfix": "",
     "delete_cmd_prefix": "del ",
     "library": "var_list.py",
     "varRefreshCmd": "print(var_dic_list())"
    },
    "r": {
     "delete_cmd_postfix": ") ",
     "delete_cmd_prefix": "rm(",
     "library": "var_list.r",
     "varRefreshCmd": "cat(var_dic_list()) "
    }
   },
   "types_to_exclude": [
    "module",
    "function",
    "builtin_function_or_method",
    "instance",
    "_Feature"
   ],
   "window_display": false
  }
 },
 "nbformat": 4,
 "nbformat_minor": 2
}
